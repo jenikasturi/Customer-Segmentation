{
 "cells": [
  {
   "cell_type": "markdown",
   "metadata": {},
   "source": [
    "# Perkenalan\n",
    "\n",
    "=======================================================\n",
    "\n",
    "Graded Challenge 6\n",
    "\n",
    "Nama : Jeni Kasturi\n",
    "\n",
    "Batch : FTDS_BSD_2\n",
    "\n",
    "Memprediksi apakah pelanggan membayar atau tidak dari database [credit_card_information]('https://colab.research.google.com/drive/1HmzySfAgHvVj8bAkb6-xWpOhci4y_Kmj#scrollTo=J78T3EQgKbGj')\n",
    "\n",
    "======================================================="
   ]
  },
  {
   "cell_type": "markdown",
   "metadata": {},
   "source": [
    "---"
   ]
  },
  {
   "cell_type": "markdown",
   "metadata": {},
   "source": [
    "# Model Inference"
   ]
  },
  {
   "cell_type": "markdown",
   "metadata": {},
   "source": [
    "Dalam tahap ini model yang telah kita latih digunakan kembali untuk membuat prediksi atau membuat estimasi berdasarkan data baru, dalam hal ini kita akan menggunakan data sampel yang sudah di drop dari data awal."
   ]
  },
  {
   "cell_type": "markdown",
   "metadata": {},
   "source": [
    "### 1. Import Libraries"
   ]
  },
  {
   "cell_type": "markdown",
   "metadata": {},
   "source": [
    "Import semua library yang dibutuhkan dalam projek."
   ]
  },
  {
   "cell_type": "code",
   "execution_count": 11,
   "metadata": {},
   "outputs": [],
   "source": [
    "# import Librarys\n",
    "import pickle  \n",
    "import pandas as pd\n",
    "import numpy as np"
   ]
  },
  {
   "cell_type": "markdown",
   "metadata": {},
   "source": [
    "### 2. Load Model"
   ]
  },
  {
   "cell_type": "code",
   "execution_count": 12,
   "metadata": {},
   "outputs": [],
   "source": [
    "# Load all Models\n",
    "with open('P1G6_file_Pipeline.pkl', 'rb') as file_1: #rb = write binary\n",
    "    pipeline = pickle.load(file_1)"
   ]
  },
  {
   "cell_type": "markdown",
   "metadata": {},
   "source": [
    "### 3. Load Data Inference"
   ]
  },
  {
   "cell_type": "markdown",
   "metadata": {},
   "source": [
    "Masukan data yang sebelumnya di drop dari data df dan disimpan sebagai sample."
   ]
  },
  {
   "cell_type": "code",
   "execution_count": 13,
   "metadata": {},
   "outputs": [],
   "source": [
    "data_inf = pd.read_csv('data_inf.csv')"
   ]
  },
  {
   "cell_type": "code",
   "execution_count": 14,
   "metadata": {},
   "outputs": [
    {
     "data": {
      "text/html": [
       "<style>#sk-container-id-3 {color: black;}#sk-container-id-3 pre{padding: 0;}#sk-container-id-3 div.sk-toggleable {background-color: white;}#sk-container-id-3 label.sk-toggleable__label {cursor: pointer;display: block;width: 100%;margin-bottom: 0;padding: 0.3em;box-sizing: border-box;text-align: center;}#sk-container-id-3 label.sk-toggleable__label-arrow:before {content: \"▸\";float: left;margin-right: 0.25em;color: #696969;}#sk-container-id-3 label.sk-toggleable__label-arrow:hover:before {color: black;}#sk-container-id-3 div.sk-estimator:hover label.sk-toggleable__label-arrow:before {color: black;}#sk-container-id-3 div.sk-toggleable__content {max-height: 0;max-width: 0;overflow: hidden;text-align: left;background-color: #f0f8ff;}#sk-container-id-3 div.sk-toggleable__content pre {margin: 0.2em;color: black;border-radius: 0.25em;background-color: #f0f8ff;}#sk-container-id-3 input.sk-toggleable__control:checked~div.sk-toggleable__content {max-height: 200px;max-width: 100%;overflow: auto;}#sk-container-id-3 input.sk-toggleable__control:checked~label.sk-toggleable__label-arrow:before {content: \"▾\";}#sk-container-id-3 div.sk-estimator input.sk-toggleable__control:checked~label.sk-toggleable__label {background-color: #d4ebff;}#sk-container-id-3 div.sk-label input.sk-toggleable__control:checked~label.sk-toggleable__label {background-color: #d4ebff;}#sk-container-id-3 input.sk-hidden--visually {border: 0;clip: rect(1px 1px 1px 1px);clip: rect(1px, 1px, 1px, 1px);height: 1px;margin: -1px;overflow: hidden;padding: 0;position: absolute;width: 1px;}#sk-container-id-3 div.sk-estimator {font-family: monospace;background-color: #f0f8ff;border: 1px dotted black;border-radius: 0.25em;box-sizing: border-box;margin-bottom: 0.5em;}#sk-container-id-3 div.sk-estimator:hover {background-color: #d4ebff;}#sk-container-id-3 div.sk-parallel-item::after {content: \"\";width: 100%;border-bottom: 1px solid gray;flex-grow: 1;}#sk-container-id-3 div.sk-label:hover label.sk-toggleable__label {background-color: #d4ebff;}#sk-container-id-3 div.sk-serial::before {content: \"\";position: absolute;border-left: 1px solid gray;box-sizing: border-box;top: 0;bottom: 0;left: 50%;z-index: 0;}#sk-container-id-3 div.sk-serial {display: flex;flex-direction: column;align-items: center;background-color: white;padding-right: 0.2em;padding-left: 0.2em;position: relative;}#sk-container-id-3 div.sk-item {position: relative;z-index: 1;}#sk-container-id-3 div.sk-parallel {display: flex;align-items: stretch;justify-content: center;background-color: white;position: relative;}#sk-container-id-3 div.sk-item::before, #sk-container-id-3 div.sk-parallel-item::before {content: \"\";position: absolute;border-left: 1px solid gray;box-sizing: border-box;top: 0;bottom: 0;left: 50%;z-index: -1;}#sk-container-id-3 div.sk-parallel-item {display: flex;flex-direction: column;z-index: 1;position: relative;background-color: white;}#sk-container-id-3 div.sk-parallel-item:first-child::after {align-self: flex-end;width: 50%;}#sk-container-id-3 div.sk-parallel-item:last-child::after {align-self: flex-start;width: 50%;}#sk-container-id-3 div.sk-parallel-item:only-child::after {width: 0;}#sk-container-id-3 div.sk-dashed-wrapped {border: 1px dashed gray;margin: 0 0.4em 0.5em 0.4em;box-sizing: border-box;padding-bottom: 0.4em;background-color: white;}#sk-container-id-3 div.sk-label label {font-family: monospace;font-weight: bold;display: inline-block;line-height: 1.2em;}#sk-container-id-3 div.sk-label-container {text-align: center;}#sk-container-id-3 div.sk-container {/* jupyter's `normalize.less` sets `[hidden] { display: none; }` but bootstrap.min.css set `[hidden] { display: none !important; }` so we also need the `!important` here to be able to override the default hidden behavior on the sphinx rendered scikit-learn.org. See: https://github.com/scikit-learn/scikit-learn/issues/21755 */display: inline-block !important;position: relative;}#sk-container-id-3 div.sk-text-repr-fallback {display: none;}</style><div id=\"sk-container-id-3\" class=\"sk-top-container\"><div class=\"sk-text-repr-fallback\"><pre>Pipeline(steps=[(&#x27;scaler&#x27;,\n",
       "                 ColumnTransformer(transformers=[(&#x27;scaler&#x27;, MinMaxScaler(),\n",
       "                                                  [&#x27;BALANCE&#x27;,\n",
       "                                                   &#x27;BALANCE_FREQUENCY&#x27;,\n",
       "                                                   &#x27;PURCHASES&#x27;,\n",
       "                                                   &#x27;ONEOFF_PURCHASES&#x27;,\n",
       "                                                   &#x27;INSTALLMENTS_PURCHASES&#x27;,\n",
       "                                                   &#x27;CASH_ADVANCE&#x27;,\n",
       "                                                   &#x27;ONEOFF_PURCHASES_FREQUENCY&#x27;,\n",
       "                                                   &#x27;CASH_ADVANCE_FREQUENCY&#x27;,\n",
       "                                                   &#x27;CASH_ADVANCE_TRX&#x27;,\n",
       "                                                   &#x27;PURCHASES_TRX&#x27;,\n",
       "                                                   &#x27;CREDIT_LIMIT&#x27;, &#x27;PAYMENTS&#x27;,\n",
       "                                                   &#x27;MINIMUM_PAYMENTS&#x27;,\n",
       "                                                   &#x27;PRC_FULL_PAYMENT&#x27;])])),\n",
       "                (&#x27;pca&#x27;, PCA(n_components=7)),\n",
       "                (&#x27;kmeans&#x27;, KMeans(n_clusters=5, random_state=2022))])</pre><b>In a Jupyter environment, please rerun this cell to show the HTML representation or trust the notebook. <br />On GitHub, the HTML representation is unable to render, please try loading this page with nbviewer.org.</b></div><div class=\"sk-container\" hidden><div class=\"sk-item sk-dashed-wrapped\"><div class=\"sk-label-container\"><div class=\"sk-label sk-toggleable\"><input class=\"sk-toggleable__control sk-hidden--visually\" id=\"sk-estimator-id-9\" type=\"checkbox\" ><label for=\"sk-estimator-id-9\" class=\"sk-toggleable__label sk-toggleable__label-arrow\">Pipeline</label><div class=\"sk-toggleable__content\"><pre>Pipeline(steps=[(&#x27;scaler&#x27;,\n",
       "                 ColumnTransformer(transformers=[(&#x27;scaler&#x27;, MinMaxScaler(),\n",
       "                                                  [&#x27;BALANCE&#x27;,\n",
       "                                                   &#x27;BALANCE_FREQUENCY&#x27;,\n",
       "                                                   &#x27;PURCHASES&#x27;,\n",
       "                                                   &#x27;ONEOFF_PURCHASES&#x27;,\n",
       "                                                   &#x27;INSTALLMENTS_PURCHASES&#x27;,\n",
       "                                                   &#x27;CASH_ADVANCE&#x27;,\n",
       "                                                   &#x27;ONEOFF_PURCHASES_FREQUENCY&#x27;,\n",
       "                                                   &#x27;CASH_ADVANCE_FREQUENCY&#x27;,\n",
       "                                                   &#x27;CASH_ADVANCE_TRX&#x27;,\n",
       "                                                   &#x27;PURCHASES_TRX&#x27;,\n",
       "                                                   &#x27;CREDIT_LIMIT&#x27;, &#x27;PAYMENTS&#x27;,\n",
       "                                                   &#x27;MINIMUM_PAYMENTS&#x27;,\n",
       "                                                   &#x27;PRC_FULL_PAYMENT&#x27;])])),\n",
       "                (&#x27;pca&#x27;, PCA(n_components=7)),\n",
       "                (&#x27;kmeans&#x27;, KMeans(n_clusters=5, random_state=2022))])</pre></div></div></div><div class=\"sk-serial\"><div class=\"sk-item sk-dashed-wrapped\"><div class=\"sk-label-container\"><div class=\"sk-label sk-toggleable\"><input class=\"sk-toggleable__control sk-hidden--visually\" id=\"sk-estimator-id-10\" type=\"checkbox\" ><label for=\"sk-estimator-id-10\" class=\"sk-toggleable__label sk-toggleable__label-arrow\">scaler: ColumnTransformer</label><div class=\"sk-toggleable__content\"><pre>ColumnTransformer(transformers=[(&#x27;scaler&#x27;, MinMaxScaler(),\n",
       "                                 [&#x27;BALANCE&#x27;, &#x27;BALANCE_FREQUENCY&#x27;, &#x27;PURCHASES&#x27;,\n",
       "                                  &#x27;ONEOFF_PURCHASES&#x27;, &#x27;INSTALLMENTS_PURCHASES&#x27;,\n",
       "                                  &#x27;CASH_ADVANCE&#x27;, &#x27;ONEOFF_PURCHASES_FREQUENCY&#x27;,\n",
       "                                  &#x27;CASH_ADVANCE_FREQUENCY&#x27;, &#x27;CASH_ADVANCE_TRX&#x27;,\n",
       "                                  &#x27;PURCHASES_TRX&#x27;, &#x27;CREDIT_LIMIT&#x27;, &#x27;PAYMENTS&#x27;,\n",
       "                                  &#x27;MINIMUM_PAYMENTS&#x27;, &#x27;PRC_FULL_PAYMENT&#x27;])])</pre></div></div></div><div class=\"sk-parallel\"><div class=\"sk-parallel-item\"><div class=\"sk-item\"><div class=\"sk-label-container\"><div class=\"sk-label sk-toggleable\"><input class=\"sk-toggleable__control sk-hidden--visually\" id=\"sk-estimator-id-11\" type=\"checkbox\" ><label for=\"sk-estimator-id-11\" class=\"sk-toggleable__label sk-toggleable__label-arrow\">scaler</label><div class=\"sk-toggleable__content\"><pre>[&#x27;BALANCE&#x27;, &#x27;BALANCE_FREQUENCY&#x27;, &#x27;PURCHASES&#x27;, &#x27;ONEOFF_PURCHASES&#x27;, &#x27;INSTALLMENTS_PURCHASES&#x27;, &#x27;CASH_ADVANCE&#x27;, &#x27;ONEOFF_PURCHASES_FREQUENCY&#x27;, &#x27;CASH_ADVANCE_FREQUENCY&#x27;, &#x27;CASH_ADVANCE_TRX&#x27;, &#x27;PURCHASES_TRX&#x27;, &#x27;CREDIT_LIMIT&#x27;, &#x27;PAYMENTS&#x27;, &#x27;MINIMUM_PAYMENTS&#x27;, &#x27;PRC_FULL_PAYMENT&#x27;]</pre></div></div></div><div class=\"sk-serial\"><div class=\"sk-item\"><div class=\"sk-estimator sk-toggleable\"><input class=\"sk-toggleable__control sk-hidden--visually\" id=\"sk-estimator-id-12\" type=\"checkbox\" ><label for=\"sk-estimator-id-12\" class=\"sk-toggleable__label sk-toggleable__label-arrow\">MinMaxScaler</label><div class=\"sk-toggleable__content\"><pre>MinMaxScaler()</pre></div></div></div></div></div></div></div></div><div class=\"sk-item\"><div class=\"sk-estimator sk-toggleable\"><input class=\"sk-toggleable__control sk-hidden--visually\" id=\"sk-estimator-id-13\" type=\"checkbox\" ><label for=\"sk-estimator-id-13\" class=\"sk-toggleable__label sk-toggleable__label-arrow\">PCA</label><div class=\"sk-toggleable__content\"><pre>PCA(n_components=7)</pre></div></div></div><div class=\"sk-item\"><div class=\"sk-estimator sk-toggleable\"><input class=\"sk-toggleable__control sk-hidden--visually\" id=\"sk-estimator-id-14\" type=\"checkbox\" ><label for=\"sk-estimator-id-14\" class=\"sk-toggleable__label sk-toggleable__label-arrow\">KMeans</label><div class=\"sk-toggleable__content\"><pre>KMeans(n_clusters=5, random_state=2022)</pre></div></div></div></div></div></div></div>"
      ],
      "text/plain": [
       "Pipeline(steps=[('scaler',\n",
       "                 ColumnTransformer(transformers=[('scaler', MinMaxScaler(),\n",
       "                                                  ['BALANCE',\n",
       "                                                   'BALANCE_FREQUENCY',\n",
       "                                                   'PURCHASES',\n",
       "                                                   'ONEOFF_PURCHASES',\n",
       "                                                   'INSTALLMENTS_PURCHASES',\n",
       "                                                   'CASH_ADVANCE',\n",
       "                                                   'ONEOFF_PURCHASES_FREQUENCY',\n",
       "                                                   'CASH_ADVANCE_FREQUENCY',\n",
       "                                                   'CASH_ADVANCE_TRX',\n",
       "                                                   'PURCHASES_TRX',\n",
       "                                                   'CREDIT_LIMIT', 'PAYMENTS',\n",
       "                                                   'MINIMUM_PAYMENTS',\n",
       "                                                   'PRC_FULL_PAYMENT'])])),\n",
       "                ('pca', PCA(n_components=7)),\n",
       "                ('kmeans', KMeans(n_clusters=5, random_state=2022))])"
      ]
     },
     "execution_count": 14,
     "metadata": {},
     "output_type": "execute_result"
    }
   ],
   "source": [
    "pipeline"
   ]
  },
  {
   "cell_type": "code",
   "execution_count": 16,
   "metadata": {},
   "outputs": [
    {
     "name": "stdout",
     "output_type": "stream",
     "text": [
      "Customer ini masuk ke dalam cluster: 2\n"
     ]
    }
   ],
   "source": [
    "# predict NF\n",
    "predict_inf = pipeline.predict(data_inf)\n",
    "print(f'Customer ini masuk ke dalam cluster : {predict_inf[0]}')"
   ]
  }
 ],
 "metadata": {
  "kernelspec": {
   "display_name": "Hacktiv8",
   "language": "python",
   "name": "python3"
  },
  "language_info": {
   "codemirror_mode": {
    "name": "ipython",
    "version": 3
   },
   "file_extension": ".py",
   "mimetype": "text/x-python",
   "name": "python",
   "nbconvert_exporter": "python",
   "pygments_lexer": "ipython3",
   "version": "3.11.5"
  }
 },
 "nbformat": 4,
 "nbformat_minor": 2
}
